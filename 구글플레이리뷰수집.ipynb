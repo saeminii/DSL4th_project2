{
 "cells": [
  {
   "cell_type": "code",
   "execution_count": 1,
   "metadata": {},
   "outputs": [
    {
     "name": "stderr",
     "output_type": "stream",
     "text": [
      "C:\\Users\\82104\\Anaconda3\\lib\\site-packages\\bs4\\__init__.py:220: UserWarning: You provided Unicode markup but also provided a value for from_encoding. Your from_encoding will be ignored.\n",
      "  warnings.warn(\"You provided Unicode markup but also provided a value for from_encoding. Your from_encoding will be ignored.\")\n"
     ]
    }
   ],
   "source": [
    "from selenium import webdriver\n",
    "from selenium.webdriver.common.keys import Keys\n",
    "from datetime import date, datetime\n",
    "\n",
    "path = 'C:/selenium_server/chromedriver.exe'\n",
    "driver = webdriver.Chrome(path)\n",
    "\n",
    "\n",
    "from multiprocessing import Pool, Value, freeze_support\n",
    "from urllib.request import urlopen\n",
    "from bs4 import BeautifulSoup as bs\n",
    "from urllib.parse import quote_plus\n",
    "import time\n",
    "from time import sleep\n",
    "import requests\n",
    "\n",
    "\n",
    "\n",
    "\n",
    "# 한글 검색 자동 변환\n",
    "url = \"https://play.google.com/store/apps/details?id=com.innersloth.spacemafia\"\n",
    "\n",
    "driver.get(url)\n",
    "time.sleep(5)\n",
    "data = driver.page_source\n",
    "soup = bs(data, \"html.parser\",from_encoding = 'utf-8')"
   ]
  },
  {
   "cell_type": "code",
   "execution_count": 2,
   "metadata": {},
   "outputs": [],
   "source": [
    "#스크롤\n",
    "driver.execute_script(\"window.scrollTo(0, document.body.scrollHeight);\")\n",
    "sleep(3)"
   ]
  },
  {
   "cell_type": "code",
   "execution_count": 3,
   "metadata": {},
   "outputs": [],
   "source": [
    "#\"리뷰더보기\" 버튼누르기\n",
    "more_btn = driver.find_element_by_css_selector('div.XnFhVd div.U26fgb.O0WRkf.oG5Srb.C0oVfc.n9lfJ')\n",
    "if more_btn is not None:\n",
    "    driver.execute_script(\"arguments[0].click();\", more_btn)       "
   ]
  },
  {
   "cell_type": "code",
   "execution_count": 4,
   "metadata": {},
   "outputs": [],
   "source": [
    "#스크롤\n",
    "driver.execute_script(\"window.scrollTo(0, document.body.scrollHeight);\")\n",
    "sleep(3)"
   ]
  },
  {
   "cell_type": "code",
   "execution_count": 5,
   "metadata": {},
   "outputs": [],
   "source": [
    "#더보기 버튼 누르기_여러번으로 바꿀 것\n",
    "for i in range(10):\n",
    "    #다시 html 수집\n",
    "    data = driver.page_source\n",
    "    soup = bs(data, \"html.parser\",from_encoding = 'utf-8')\n",
    "    try:\n",
    "        driver.execute_script(\"window.scrollTo(0, document.body.scrollHeight);\")\n",
    "        sleep(3)\n",
    "        more_btn2 = driver.find_element_by_css_selector('div.PFAhAf div.U26fgb.O0WRkf.oG5Srb.C0oVfc.n9lfJ')\n",
    "        #more_btn = driver.find_element_by_css_selector('span.RveJvd.snByac')\n",
    "        if more_btn2 is not None:\n",
    "            driver.execute_script(\"arguments[0].click();\", more_btn2)\n",
    "            driver.execute_script(\"window.scrollTo(0, document.body.scrollHeight);\")\n",
    "            sleep(3)\n",
    "    except:\n",
    "        pass"
   ]
  },
  {
   "cell_type": "code",
   "execution_count": 6,
   "metadata": {},
   "outputs": [],
   "source": [
    "#다시 html 수집\n",
    "data = driver.page_source\n",
    "soup = bs(data, \"html.parser\",from_encoding = 'utf-8')"
   ]
  },
  {
   "cell_type": "code",
   "execution_count": 7,
   "metadata": {},
   "outputs": [],
   "source": [
    "#데이터수집\n",
    "dates =  soup.findAll(\"span\", {\"class\" : \"p2TkOb\"}) #날짜\n",
    "comments = soup.findAll(\"div\", {\"class\" : \"UD7Dzf\"}) #댓글\n",
    "likes = soup.findAll(\"div\", {\"class\" : \"jUL89d y92BAb\"}) #좋아요수\n",
    "grades_div = soup.findAll(\"div\",{\"class\":\"pf5lIe\"}) #평점을 가져오기 위한 큰그림"
   ]
  },
  {
   "cell_type": "code",
   "execution_count": 8,
   "metadata": {},
   "outputs": [],
   "source": [
    "#평점처리\n",
    "grades = [len(div.findAll(\"div\",{\"class\":\"vQHuPe bUWb7c\"})) for div in grades_div]   "
   ]
  },
  {
   "cell_type": "code",
   "execution_count": 9,
   "metadata": {},
   "outputs": [],
   "source": [
    "#날짜처리_ 아직 못 함_정규표현식\n",
    "#for dt in dates:\n",
    " #   dt = datetime.strptime(dt.text, '%Y-%m-%d')\n",
    " #   dt = int(dt.text)\n",
    "#    print(dt)"
   ]
  },
  {
   "cell_type": "code",
   "execution_count": 10,
   "metadata": {},
   "outputs": [],
   "source": [
    "reviews = []\n",
    "for i in range(len(comments)):\n",
    "                review = (dates[i].text, comments[i].text, int(likes[i].text), grades[i])\n",
    "                reviews.append(review)"
   ]
  },
  {
   "cell_type": "code",
   "execution_count": 11,
   "metadata": {},
   "outputs": [
    {
     "name": "stdout",
     "output_type": "stream",
     "text": [
      "1604\n"
     ]
    }
   ],
   "source": [
    "print(len(reviews))"
   ]
  },
  {
   "cell_type": "code",
   "execution_count": 16,
   "metadata": {},
   "outputs": [],
   "source": [
    "#파일 내보내기\n",
    "import csv\n",
    "with open(\"어몽어스review.csv\",'wt',encoding ='utf-8',newline='') as file:\n",
    "    csv_wr = csv.writer(file)\n",
    "    csv_wr.writerow([\"날짜\",\"내용\",\"좋아요\",\"평점\"])\n",
    "    for rev in reviews:\n",
    "        csv_wr.writerow(rev)"
   ]
  },
  {
   "cell_type": "code",
   "execution_count": null,
   "metadata": {},
   "outputs": [],
   "source": []
  },
  {
   "cell_type": "code",
   "execution_count": null,
   "metadata": {},
   "outputs": [],
   "source": []
  },
  {
   "cell_type": "code",
   "execution_count": null,
   "metadata": {},
   "outputs": [],
   "source": []
  }
 ],
 "metadata": {
  "kernelspec": {
   "display_name": "Python 3",
   "language": "python",
   "name": "python3"
  },
  "language_info": {
   "codemirror_mode": {
    "name": "ipython",
    "version": 3
   },
   "file_extension": ".py",
   "mimetype": "text/x-python",
   "name": "python",
   "nbconvert_exporter": "python",
   "pygments_lexer": "ipython3",
   "version": "3.7.3"
  },
  "toc": {
   "base_numbering": 1,
   "nav_menu": {},
   "number_sections": true,
   "sideBar": true,
   "skip_h1_title": false,
   "title_cell": "Table of Contents",
   "title_sidebar": "Contents",
   "toc_cell": false,
   "toc_position": {},
   "toc_section_display": true,
   "toc_window_display": false
  }
 },
 "nbformat": 4,
 "nbformat_minor": 4
}
